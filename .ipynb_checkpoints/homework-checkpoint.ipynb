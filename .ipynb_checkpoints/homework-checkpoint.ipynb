{
 "cells": [
  {
   "cell_type": "code",
   "execution_count": null,
   "metadata": {},
   "outputs": [],
   "source": [
    "!pip install tensorflow"
   ]
  },
  {
   "cell_type": "code",
   "execution_count": null,
   "metadata": {},
   "outputs": [],
   "source": [
    "!pip install -q -U keras-tuner"
   ]
  },
  {
   "cell_type": "code",
   "execution_count": 1,
   "metadata": {},
   "outputs": [],
   "source": [
    "import numpy as np"
   ]
  },
  {
   "cell_type": "code",
   "execution_count": 2,
   "metadata": {},
   "outputs": [],
   "source": [
    "import tensorflow as tf\n",
    "from tensorflow import keras"
   ]
  },
  {
   "cell_type": "code",
   "execution_count": 3,
   "metadata": {},
   "outputs": [
    {
     "data": {
      "text/plain": [
       "'2.14.0'"
      ]
     },
     "execution_count": 3,
     "metadata": {},
     "output_type": "execute_result"
    }
   ],
   "source": [
    "tf.__version__"
   ]
  },
  {
   "cell_type": "markdown",
   "metadata": {},
   "source": [
    "# Base Model"
   ]
  },
  {
   "cell_type": "code",
   "execution_count": 4,
   "metadata": {},
   "outputs": [],
   "source": [
    "import tensorflow as tf\n",
    "from tensorflow.keras.models import Sequential\n",
    "from tensorflow.keras.layers import Conv2D, MaxPooling2D, Flatten, Dense\n",
    "from tensorflow.keras.optimizers import SGD\n",
    "\n",
    "def build_model():\n",
    "    model = Sequential()\n",
    "    model.add(Conv2D(32, (3, 3), activation='relu', input_shape=(150, 150, 3)))\n",
    "    model.add(MaxPooling2D(pool_size=(2, 2)))\n",
    "    model.add(Flatten())\n",
    "    model.add(Dense(64, activation='relu'))\n",
    "    model.add(Dense(1, activation='sigmoid'))\n",
    "    \n",
    "    # optimizer = SGD(learning_rate=0.002, momentum=0.8)\n",
    "    optimizer = tf.keras.optimizers.legacy.SGD(learning_rate=0.001, momentum=0.8) # use legacy optimizer for M1 Macs\n",
    "    \n",
    "    model.compile(optimizer=optimizer, loss='binary_crossentropy', metrics=['accuracy'])\n",
    "    return model\n",
    "    "
   ]
  },
  {
   "cell_type": "code",
   "execution_count": 5,
   "metadata": {},
   "outputs": [],
   "source": [
    "model = build_model()"
   ]
  },
  {
   "cell_type": "code",
   "execution_count": 6,
   "metadata": {},
   "outputs": [
    {
     "name": "stdout",
     "output_type": "stream",
     "text": [
      "Found 1594 images belonging to 2 classes.\n",
      "Found 394 images belonging to 2 classes.\n"
     ]
    }
   ],
   "source": [
    "from tensorflow.keras.preprocessing.image import ImageDataGenerator\n",
    "\n",
    "train_datagen = ImageDataGenerator(rescale=1./255)\n",
    "\n",
    "train_dir = 'dino-dragon/train'\n",
    "test_dir = 'dino-dragon/test'\n",
    "\n",
    "train_generator = train_datagen.flow_from_directory(\n",
    "    train_dir,\n",
    "    target_size=(150, 150),\n",
    "    batch_size=20,\n",
    "    class_mode='binary',\n",
    "    classes=['dino', 'dragon']\n",
    ")\n",
    "\n",
    "test_generator = train_datagen.flow_from_directory(\n",
    "    test_dir,\n",
    "    target_size=(150, 150),\n",
    "    batch_size=20,\n",
    "    class_mode='binary',\n",
    "    classes=['dino', 'dragon']\n",
    ")\n"
   ]
  },
  {
   "cell_type": "code",
   "execution_count": 7,
   "metadata": {},
   "outputs": [],
   "source": [
    "from tensorflow.keras.callbacks import ModelCheckpoint\n",
    "        \n",
    "model_checkpoint = ModelCheckpoint(\n",
    "    'best_model_base.h5', \n",
    "                                   monitor='val_accuracy', \n",
    "                                   save_best_only=True,  \n",
    "                                   mode='max',  \n",
    "                                   verbose=1  \n",
    ")"
   ]
  },
  {
   "cell_type": "code",
   "execution_count": 8,
   "metadata": {},
   "outputs": [
    {
     "name": "stdout",
     "output_type": "stream",
     "text": [
      "Epoch 1/10\n",
      "80/80 [==============================] - ETA: 0s - loss: 0.6189 - accuracy: 0.6487\n",
      "Epoch 1: val_accuracy improved from -inf to 0.77665, saving model to best_model_base.h5\n",
      "80/80 [==============================] - 5s 66ms/step - loss: 0.6189 - accuracy: 0.6487 - val_loss: 0.5223 - val_accuracy: 0.7766\n",
      "Epoch 2/10\n"
     ]
    },
    {
     "name": "stderr",
     "output_type": "stream",
     "text": [
      "/Users/azimkhan/PycharmProjects/ai-integrator/ai-homework-8/venv/lib/python3.11/site-packages/keras/src/engine/training.py:3079: UserWarning: You are saving your model as an HDF5 file via `model.save()`. This file format is considered legacy. We recommend using instead the native Keras format, e.g. `model.save('my_model.keras')`.\n",
      "  saving_api.save_model(\n"
     ]
    },
    {
     "name": "stdout",
     "output_type": "stream",
     "text": [
      "80/80 [==============================] - ETA: 0s - loss: 0.4855 - accuracy: 0.7848\n",
      "Epoch 2: val_accuracy improved from 0.77665 to 0.82995, saving model to best_model_base.h5\n",
      "80/80 [==============================] - 4s 55ms/step - loss: 0.4855 - accuracy: 0.7848 - val_loss: 0.4275 - val_accuracy: 0.8299\n",
      "Epoch 3/10\n",
      "79/80 [============================>.] - ETA: 0s - loss: 0.4251 - accuracy: 0.8151\n",
      "Epoch 3: val_accuracy improved from 0.82995 to 0.83249, saving model to best_model_base.h5\n",
      "80/80 [==============================] - 4s 56ms/step - loss: 0.4237 - accuracy: 0.8168 - val_loss: 0.4036 - val_accuracy: 0.8325\n",
      "Epoch 4/10\n",
      "80/80 [==============================] - ETA: 0s - loss: 0.3689 - accuracy: 0.8457\n",
      "Epoch 4: val_accuracy improved from 0.83249 to 0.84010, saving model to best_model_base.h5\n",
      "80/80 [==============================] - 4s 55ms/step - loss: 0.3689 - accuracy: 0.8457 - val_loss: 0.3685 - val_accuracy: 0.8401\n",
      "Epoch 5/10\n",
      "79/80 [============================>.] - ETA: 0s - loss: 0.3232 - accuracy: 0.8856\n",
      "Epoch 5: val_accuracy improved from 0.84010 to 0.84518, saving model to best_model_base.h5\n",
      "80/80 [==============================] - 4s 55ms/step - loss: 0.3225 - accuracy: 0.8858 - val_loss: 0.3495 - val_accuracy: 0.8452\n",
      "Epoch 6/10\n",
      "80/80 [==============================] - ETA: 0s - loss: 0.3002 - accuracy: 0.8871\n",
      "Epoch 6: val_accuracy did not improve from 0.84518\n",
      "80/80 [==============================] - 4s 54ms/step - loss: 0.3002 - accuracy: 0.8871 - val_loss: 0.3495 - val_accuracy: 0.8401\n",
      "Epoch 7/10\n",
      "80/80 [==============================] - ETA: 0s - loss: 0.2697 - accuracy: 0.9028\n",
      "Epoch 7: val_accuracy improved from 0.84518 to 0.87056, saving model to best_model_base.h5\n",
      "80/80 [==============================] - 4s 55ms/step - loss: 0.2697 - accuracy: 0.9028 - val_loss: 0.3095 - val_accuracy: 0.8706\n",
      "Epoch 8/10\n",
      "79/80 [============================>.] - ETA: 0s - loss: 0.2516 - accuracy: 0.9117\n",
      "Epoch 8: val_accuracy did not improve from 0.87056\n",
      "80/80 [==============================] - 4s 54ms/step - loss: 0.2503 - accuracy: 0.9115 - val_loss: 0.3896 - val_accuracy: 0.8223\n",
      "Epoch 9/10\n",
      "80/80 [==============================] - ETA: 0s - loss: 0.2355 - accuracy: 0.9147\n",
      "Epoch 9: val_accuracy improved from 0.87056 to 0.87817, saving model to best_model_base.h5\n",
      "80/80 [==============================] - 4s 55ms/step - loss: 0.2355 - accuracy: 0.9147 - val_loss: 0.2918 - val_accuracy: 0.8782\n",
      "Epoch 10/10\n",
      "79/80 [============================>.] - ETA: 0s - loss: 0.2061 - accuracy: 0.9327\n",
      "Epoch 10: val_accuracy improved from 0.87817 to 0.88071, saving model to best_model_base.h5\n",
      "80/80 [==============================] - 4s 55ms/step - loss: 0.2061 - accuracy: 0.9322 - val_loss: 0.2887 - val_accuracy: 0.8807\n"
     ]
    }
   ],
   "source": [
    "epochs = 10  #\n",
    "hist = model.fit(\n",
    "    train_generator,\n",
    "    epochs=epochs,\n",
    "    validation_data=test_generator,\n",
    "    callbacks=[model_checkpoint]\n",
    ")"
   ]
  },
  {
   "cell_type": "code",
   "execution_count": 13,
   "metadata": {},
   "outputs": [
    {
     "data": {
      "text/plain": [
       "0.12238776940528003"
      ]
     },
     "execution_count": 13,
     "metadata": {},
     "output_type": "execute_result"
    }
   ],
   "source": [
    "np.std(np.array([0.6189, 0.4855, 0.4251,0.3689,0.3232,0.3002,0.2697,0.2516,0.2355,0.2061]))"
   ]
  },
  {
   "cell_type": "code",
   "execution_count": null,
   "metadata": {},
   "outputs": [],
   "source": [
    "# # Test model\n",
    "\n",
    "# test_dir = 'dino-dragon/test'\n",
    "\n",
    "# test_datagen = ImageDataGenerator(rescale=1./255) \n",
    "\n",
    "# # Load and preprocess the test data\n",
    "# test_generator = test_datagen.flow_from_directory(\n",
    "#     test_dir,\n",
    "#     target_size=(150, 150),\n",
    "#     batch_size=20,\n",
    "#     class_mode='binary',\n",
    "#     classes=['dino', 'dragon']\n",
    "# )\n",
    "\n",
    "# # Test the model on the test data\n",
    "# test_results = model.evaluate(test_generator)\n",
    "\n",
    "# # This will give you test loss and accuracy\n",
    "# print(\"Test Loss:\", test_results[0])\n",
    "# print(\"Test Accuracy:\", test_results[1])"
   ]
  },
  {
   "cell_type": "code",
   "execution_count": null,
   "metadata": {},
   "outputs": [],
   "source": [
    "import requests \n",
    "from PIL import Image\n",
    "from io import BytesIO\n",
    "\n",
    "def predict_image_class_from_url(image_url, target_size=(150,150)):\n",
    "    # Define a Google Chrome user agent string\n",
    "    user_agent = \"Mozilla/5.0 (Windows NT 10.0; Win64; x64) AppleWebKit/537.36 (KHTML, like Gecko) Chrome/100.0.4896.87 Safari/537.36\"\n",
    "\n",
    "    # Set the User-Agent header in the request\n",
    "    headers = {\n",
    "        \"User-Agent\": user_agent\n",
    "    }\n",
    "\n",
    "\n",
    "    res = requests.get(image_url)\n",
    "    \n",
    "    res.raise_for_status()\n",
    "    img = Image.open(BytesIO(res.content))\n",
    "    if img.mode != 'RGB':\n",
    "        img = img.convert('RGB')\n",
    "    img = img.resize(target_size, Image.NEAREST)\n",
    "    x = np.array(img) / 255.0\n",
    "    X = np.array([x])\n",
    "    \n",
    "    predictions = model.predict(X)\n",
    "    class_labels = ['dino', 'dragon']\n",
    "    predicted_class = class_labels[1 if predictions[0][0] > 0.5 else 0]\n",
    "\n",
    "    print(f\"Prediction result: {predictions[0][0]}\")\n",
    "    print(f\"Predicted class: {predicted_class}\")\n"
   ]
  },
  {
   "cell_type": "code",
   "execution_count": null,
   "metadata": {
    "scrolled": true
   },
   "outputs": [],
   "source": [
    "predict_image_class_from_url('https://upload.wikimedia.org/wikipedia/commons/thumb/d/df/Smaug_par_David_Demaret.jpg/1280px-Smaug_par_David_Demaret.jpg')"
   ]
  },
  {
   "cell_type": "code",
   "execution_count": null,
   "metadata": {},
   "outputs": [],
   "source": [
    "predict_image_class_from_url('https://scontent.cdninstagram.com/v/t51.2885-15/331098216_228728916392389_1015053959478835988_n.jpg?stp=dst-jpg_e35&efg=eyJ2ZW5jb2RlX3RhZyI6ImltYWdlX3VybGdlbi4xNDQweDE0NDAuc2RyIn0&_nc_ht=scontent.cdninstagram.com&_nc_cat=101&_nc_ohc=D0Pb5r_he1AAX97a7lz&edm=APs17CUBAAAA&ccb=7-5&ig_cache_key=MzA0MDIwODA2NTIzNjEzOTU0Mw%3D%3D.2-ccb7-5&oh=00_AfAKWwDrHv9l4TYpeTUGdrH1X-1gYpvy0EeEugMyQtXXPg&oe=6532F795&_nc_sid=10d13b')"
   ]
  },
  {
   "cell_type": "code",
   "execution_count": null,
   "metadata": {},
   "outputs": [],
   "source": [
    "predict_image_class_from_url('https://i.gaw.to/content/photos/43/73/437325-tesla-model-y-2020-tracer-la-voie-une-fois-de-plus.jpg')"
   ]
  },
  {
   "cell_type": "code",
   "execution_count": null,
   "metadata": {},
   "outputs": [],
   "source": [
    "predict_image_class_from_url('https://www.gardeningknowhow.com/wp-content/uploads/2017/07/hardwood-tree-1024x681.jpg')"
   ]
  },
  {
   "cell_type": "markdown",
   "metadata": {},
   "source": [
    "# Data Augumentation|"
   ]
  },
  {
   "cell_type": "code",
   "execution_count": 9,
   "metadata": {},
   "outputs": [
    {
     "name": "stdout",
     "output_type": "stream",
     "text": [
      "Found 1594 images belonging to 2 classes.\n"
     ]
    }
   ],
   "source": [
    "from tensorflow.keras.preprocessing.image import ImageDataGenerator\n",
    "\n",
    "train_datagen_aug = ImageDataGenerator(\n",
    "    rescale=1./255,  \n",
    "    rotation_range=40,\n",
    "    width_shift_range=0.2,\n",
    "    height_shift_range=0.2,\n",
    "    shear_range=0.2,\n",
    "    zoom_range=0.2,\n",
    "    horizontal_flip=True,\n",
    "    fill_mode='nearest'\n",
    ")\n",
    "\n",
    "train_generator_aug = train_datagen_aug.flow_from_directory(\n",
    "    train_dir,\n",
    "    target_size=(150, 150),\n",
    "    batch_size=20,\n",
    "    class_mode='binary',\n",
    "    classes=['dino', 'dragon'],\n",
    "    subset='training'  \n",
    ")\n",
    "\n",
    "# validation_generator_aug = train_datagen_aug.flow_from_directory(\n",
    "#     train_dir,\n",
    "#     target_size=(150, 150),\n",
    "#     batch_size=20,\n",
    "#     class_mode='binary',\n",
    "#     classes=['dino', 'dragon'],\n",
    "#     subset='validation' \n",
    "# )\n"
   ]
  },
  {
   "cell_type": "code",
   "execution_count": 10,
   "metadata": {},
   "outputs": [
    {
     "name": "stdout",
     "output_type": "stream",
     "text": [
      "Epoch 1/10\n",
      "80/80 [==============================] - ETA: 0s - loss: 0.4691 - accuracy: 0.7829\n",
      "Epoch 1: val_accuracy did not improve from 0.88071\n",
      "80/80 [==============================] - 8s 99ms/step - loss: 0.4691 - accuracy: 0.7829 - val_loss: 0.4005 - val_accuracy: 0.8071\n",
      "Epoch 2/10\n",
      "80/80 [==============================] - ETA: 0s - loss: 0.4237 - accuracy: 0.8118\n",
      "Epoch 2: val_accuracy did not improve from 0.88071\n",
      "80/80 [==============================] - 8s 98ms/step - loss: 0.4237 - accuracy: 0.8118 - val_loss: 0.4456 - val_accuracy: 0.7944\n",
      "Epoch 3/10\n",
      "80/80 [==============================] - ETA: 0s - loss: 0.4143 - accuracy: 0.8168\n",
      "Epoch 3: val_accuracy did not improve from 0.88071\n",
      "80/80 [==============================] - 8s 97ms/step - loss: 0.4143 - accuracy: 0.8168 - val_loss: 0.4398 - val_accuracy: 0.7944\n",
      "Epoch 4/10\n",
      "80/80 [==============================] - ETA: 0s - loss: 0.4074 - accuracy: 0.8162\n",
      "Epoch 4: val_accuracy improved from 0.88071 to 0.89594, saving model to best_model_base.h5\n",
      "80/80 [==============================] - 8s 94ms/step - loss: 0.4074 - accuracy: 0.8162 - val_loss: 0.2666 - val_accuracy: 0.8959\n",
      "Epoch 5/10\n",
      "80/80 [==============================] - ETA: 0s - loss: 0.4027 - accuracy: 0.8294\n",
      "Epoch 5: val_accuracy did not improve from 0.89594\n",
      "80/80 [==============================] - 8s 94ms/step - loss: 0.4027 - accuracy: 0.8294 - val_loss: 0.3066 - val_accuracy: 0.8680\n",
      "Epoch 6/10\n",
      "80/80 [==============================] - ETA: 0s - loss: 0.3760 - accuracy: 0.8237\n",
      "Epoch 6: val_accuracy improved from 0.89594 to 0.90355, saving model to best_model_base.h5\n",
      "80/80 [==============================] - 8s 95ms/step - loss: 0.3760 - accuracy: 0.8237 - val_loss: 0.2594 - val_accuracy: 0.9036\n",
      "Epoch 7/10\n",
      "80/80 [==============================] - ETA: 0s - loss: 0.3831 - accuracy: 0.8275\n",
      "Epoch 7: val_accuracy did not improve from 0.90355\n",
      "80/80 [==============================] - 7s 93ms/step - loss: 0.3831 - accuracy: 0.8275 - val_loss: 0.3533 - val_accuracy: 0.8350\n",
      "Epoch 8/10\n",
      "80/80 [==============================] - ETA: 0s - loss: 0.3710 - accuracy: 0.8375\n",
      "Epoch 8: val_accuracy did not improve from 0.90355\n",
      "80/80 [==============================] - 8s 98ms/step - loss: 0.3710 - accuracy: 0.8375 - val_loss: 0.4128 - val_accuracy: 0.8147\n",
      "Epoch 9/10\n",
      "80/80 [==============================] - ETA: 0s - loss: 0.3709 - accuracy: 0.8407\n",
      "Epoch 9: val_accuracy did not improve from 0.90355\n",
      "80/80 [==============================] - 8s 97ms/step - loss: 0.3709 - accuracy: 0.8407 - val_loss: 0.4185 - val_accuracy: 0.8223\n",
      "Epoch 10/10\n",
      "80/80 [==============================] - ETA: 0s - loss: 0.3824 - accuracy: 0.8350\n",
      "Epoch 10: val_accuracy did not improve from 0.90355\n",
      "80/80 [==============================] - 8s 96ms/step - loss: 0.3824 - accuracy: 0.8350 - val_loss: 0.4302 - val_accuracy: 0.8223\n"
     ]
    }
   ],
   "source": [
    "from tensorflow.keras.callbacks import ModelCheckpoint\n",
    "\n",
    "\n",
    "# train existing model on augumented data\n",
    "epochs = 10  #\n",
    "hist_aug = model.fit(\n",
    "    train_generator_aug,\n",
    "    epochs=epochs,\n",
    "    validation_data=test_generator,\n",
    "    callbacks=[model_checkpoint]\n",
    ")"
   ]
  },
  {
   "cell_type": "code",
   "execution_count": 14,
   "metadata": {},
   "outputs": [
    {
     "data": {
      "text/plain": [
       "0.39976666666666666"
      ]
     },
     "execution_count": 14,
     "metadata": {},
     "output_type": "execute_result"
    }
   ],
   "source": [
    "loss = [0.4691, 0.4237, 0.4143, 0.4074, 0.3760, 0.3831, 0.3710, 0.3709, 0.3824]\n",
    "np.mean(np.array(loss))"
   ]
  },
  {
   "cell_type": "code",
   "execution_count": 15,
   "metadata": {},
   "outputs": [
    {
     "data": {
      "text/plain": [
       "0.83126"
      ]
     },
     "execution_count": 15,
     "metadata": {},
     "output_type": "execute_result"
    }
   ],
   "source": [
    "\n",
    "acc = [0.8294, 0.8237, 0.8275, 0.8407, 0.8350]\n",
    "np.mean(np.array(acc))"
   ]
  },
  {
   "cell_type": "code",
   "execution_count": null,
   "metadata": {},
   "outputs": [],
   "source": []
  }
 ],
 "metadata": {
  "kernelspec": {
   "display_name": "Python 3 (ipykernel)",
   "language": "python",
   "name": "python3"
  },
  "language_info": {
   "codemirror_mode": {
    "name": "ipython",
    "version": 3
   },
   "file_extension": ".py",
   "mimetype": "text/x-python",
   "name": "python",
   "nbconvert_exporter": "python",
   "pygments_lexer": "ipython3",
   "version": "3.11.4"
  }
 },
 "nbformat": 4,
 "nbformat_minor": 4
}
